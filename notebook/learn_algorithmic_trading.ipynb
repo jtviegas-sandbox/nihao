{
 "cells": [
  {
   "cell_type": "markdown",
   "metadata": {
    "collapsed": true,
    "pycharm": {
     "name": "#%% md\n"
    }
   },
   "source": [
    "# Learn Algorithmic Trading\n",
    "Sebastien Donadio & Sourav Ghosh, Packt, 2019\n",
    "___\n"
   ]
  },
  {
   "cell_type": "markdown",
   "metadata": {},
   "source": [
    "## 1 Algorithmic Trading Fundamentals\n",
    "\n",
    "### Basic concepts regarding the modern trading setup\n",
    "\n",
    "#### Market sectors\n",
    "The most popular market sectors are:\n",
    "- commodities (metals, agricultural produce)\n",
    "- energy (oil, gas)\n",
    "- equities (stocks of different companies)\n",
    "- interest rate bonds (coupons you get in exchange for debt, which accrues interest, hence the name)\n",
    "- foreign exchange (cash exchange rates between currencies for different countries)\n",
    "\n",
    "#### Asset classes\n",
    "different kinds of actual vehicles\n",
    "that are available for trading at different exchanges:\n",
    "- cash interest rate bonds\n",
    "- cash foreign exchange\n",
    "- cash stock shares\n",
    "- derivatives: futures and options\n",
    "\n",
    "### Understanding algorithmic trading concepts\n",
    "\n",
    "#### Exchange order book\n",
    "...maintains all incoming buy and sell orders placed\n",
    "by clients. It tracks all attributes for incoming\n",
    "orders—prices, number of contracts/shares, order types, and participant\n",
    "identification. Buy orders (or bids) are sorted from the highest price\n",
    "(best price) to the lowest price (worst price). Sell orders (or asks) are\n",
    "sorted from the lowest price (best price) to the highest price (worst price).\n",
    "Note that matching prioritization method in both cases depends on the matching\n",
    "algorithm.\n",
    "\n",
    "#### Limit order book\n",
    "A limit order book is built by the market participants based on the market data that is being sent out by the exchange in response to market participants sending orders to it.\n",
    "The purpose is to collect and arrange bids and offers in a meaningful way to gain insight into the market participants present at any particular time, as well as gain insight regarding what the equilibrium prices are.\n",
    "\n",
    "#### Exchange market data protocols\n",
    "Are outgoing communication streams from the exchange to all market participants that are well- documented for new participants to build their software applications to subscribe, receive, decode, and check for errors and network losses.\n",
    "\n",
    "#### Market data feed handlers\n",
    "software applications that market participants build with a view to interfacing with the specific exchange market data protocol. These are able to subscribe, receive, decode, and check for errors and network losses, and are designed with latency, throughput, error tolerance, redundancy, and many other requirements in mind.\n",
    "\n",
    "#### Order types\n",
    "\n",
    "##### IOC – Immediate Or Cancel\n",
    "These orders never get added to the book. They either match against existing resting orders to a maximum of the IOC order size, or the rest of the incoming order gets canceled. If no resting order is available at a price that the IOC can match against, then the IOC is canceled in its entirety.\n",
    "##### GTD – Good Till Day\n",
    "These orders get added to the book. If they match fully against existing resting orders in the book, then they don't get added, otherwise the remaining quantity on the order (which can be the entire original quantity if there's no partial match) gets added to the book and sits as resting orders that the incoming aggressors can match against. The benefits of GTD orders are that they can take advantage of FIFO matching algorithms by having better priorities than orders that just showed up in the book, but require more complex order management in trading algorithms.\n",
    "##### Stop orders\n",
    "Stop orders are orders that aren't in the book until a specific price (called the stop price) is traded in the market, at which point they become regular GTD orders at a pre-specified price. These orders are great as exit orders (either to liquidate a losing position or to realize profit on a winning position).\n",
    "\n",
    "#### Exchange order entry protocols\n",
    "Exchange order entry protocols are how market participant software applications send order requests (new, cancels, modifies) and how the exchange replies to these requests.\n",
    "\n",
    "#### Order entry gateway\n",
    "Order entry gateways are the market participant client applications that communicate with the exchange matching engine over the order entry protocols. These have to deal with order flow in a reliable manner, sending orders to the exchange, modifying and canceling those orders, and getting notifications when these orders are accepted, canceled, executed, and so on.\n",
    "Oftentimes, market participants run a second variant of order entry gateways that simply receive order-executed notifications to check consistency against the primary order entry gateway order flow. These are called drop-copy gateways.\n",
    "\n",
    "#### Positions and profit and loss (PnL) management\n",
    "Orders that get executed cause market participants to have positions in the instrument that they got executed, for the amount the order executed, and at the price of the execution.\n",
    "A buy side execution is called having a long position, while a sell side execution is called having a short position. When we have no position at all, this is referred to as being flat.\n",
    "Multiple buy executions, or multiple sell executions for different amounts and prices, cause the overall position price to be the volume weighted average of the execution prices and quantities.\n",
    "This is called the Volume Weighted Average Price (VWAP) of the position.\n",
    "Open positions are marked to market to get a sense of what the unrealized Profit and Loss (PnL) of the position is. This means that current market prices are compared to the price of the position; a long position where market prices have gone up is considered unrealized profit, and the opposite is considered unrealized loss.\n",
    "\n",
    "#### Components of an algorithmic trading system\n",
    "In practice, a complete algorithmic trading setup is divided into two sections:\n",
    "- Core infrastructure deals with exchange-facing market data protocol integration, market data feed handlers, internal market data format normalization, historical data recording, instrument definition recording and dissemination, exchange order entry protocols, exchange order entry gateways, core side risk systems, broker-facing applications, back office reconciliation applications, addressing compliance requirements, and others;\n",
    "- Algorithmic trading strategy components deal with using normalized market data, building order books, generating signals from incoming market data and order flow information, the aggregation of different signals, efficient execution logic built on top of statistical predictive abilities (alpha), position and PnL management inside the strategies, risk management inside the strategies, backtesting, and historical signal and trading research platforms;\n",
    "\n",
    "##### Market data subscription\n",
    "These components are responsible for interacting with the feed handler components that publish normalized data. This data can be delivered over a network or locally using a variety of Inter-Process Communication (IPC) mechanisms from the feed handlers. We do not go into great detail about this here. Low latency delivery and scalability are the major driving design decisions in this regard.\n",
    "##### Limit order books\n",
    "Once the trading strategy gets normalized market data, it uses that data to build and maintain limit order books for each instrument. Depending on the sophistication and complexity of the limit order books, it can be simple enough such that it tells us how many participants there are on each side, or sophisticated enough to track market participant order priorities as well as track our own orders in the limit order book.\n",
    "##### Signals\n",
    "Once limit order books are built, every time they are updated due to new incoming market data information, we build signals using the new information.\n",
    "A trading signal is a well-defined piece of intelligence that is derived from incoming market data information, limit order books or trade information that allows a trading strategy to get a statistical edge (advantage) vis-à-vis other market participants and, thus, increased profitability.\n",
    "##### Signal aggregators\n",
    "Often, a lot of algorithmic trading systems combine a lot of different kinds of signals in order to gain a bigger edge than individual signals provide. The approach is to essentially combine different signals that have different predictive abilities/advantages under different market conditions.\n",
    "##### Execution logic\n",
    "Another key component of algorithmic trading is quickly and efficiently managing orders based on signals in order to gain an edge over the competition. It is important to react to changing market data, changing signal values in a fast but intelligent manner. Oftentimes, speed and sophistication are two competing goals, and good execution logic will try to balance the two objectives in an optimal manner. It is also extremely important to disguise our intentions/intelligence from other market participants so that we get the best executions possible.\n",
    "Remember that other market competitors can observe what orders are sent to the exchange and assess the potential impact it might have, so this component needs to be intelligent enough to not make it obvious what our trading strategy is doing. Slippage and fees are also very important factors as far as execution logic design is concerned.\n",
    "##### Position and PnL management\n",
    "All algorithmic trading strategies need to track and manage their positions and PnLs effectively. Depending on the actual trading strategy, this can often range in complexity.\n",
    "##### Risk management\n",
    "Bad risk management practices can turn potential profitable strategies into non-profitable ones. There is an even bigger risk of violating rules and regulations at trading exchanges that can often lead to legal actions and huge penalties. Finally, one of the biggest risks with high- speed automated algorithmic trading is that poorly programmed computer software is prone to bugs and errors.\n",
    "Hence, risk management systems need to be built to be extremely robust, feature rich, and have multiple layers of redundancy. There also needs to be a very high level of testing, stress testing, and strict change management to minimize the possibility of risk systems failing.\n",
    "##### Backtesting\n",
    "When researching an automated trading strategy for expected behavior, a key component in a good algorithmic trading research system is a good backtester. A backtester is used to simulate automated trading strategy behavior and retrieve statistics on expected PnLs, expected risk exposure, and other metrics based on historically recorded market data. The basic idea is to answer the question: given historical data, what kind of performance would a specific trading strategy have? This is built by recording historical market data accurately, having a framework to replay it, having a framework that can accept simulated order flow from potential trading strategies, and mimicking how a trading exchange would match this strategy's order flow in the presence of other market participants as specified in the historical market data. It is also a good place to try out different trading strategies to see what ideas work before deploying them to market.\n",
    "Building and maintaining a highly accurate backtester is one of the most complicated tasks involved in setting up an algorithmic trading research system. It has to accurately simulate things such as software latencies, network latencies, accurate FIFO priorities for orders, slippage, fees, and, in some cases, also the market impact caused by the order flow for the strategy under consideration (that is, how the other market participants may react in the presence of this strategy's order flow and trading activity).\n",
    "\n",
    "#### getting the data"
   ]
  },
  {
   "cell_type": "markdown",
   "metadata": {
    "pycharm": {
     "name": "#%% md\n"
    }
   },
   "source": [
    "### Functions"
   ]
  },
  {
   "cell_type": "code",
   "execution_count": 1,
   "metadata": {
    "pycharm": {
     "name": "#%%\n"
    }
   },
   "outputs": [],
   "source": [
    "import os\n",
    "from typing import List, Optional\n",
    "import numpy as np\n",
    "import pandas as pd\n",
    "import matplotlib.pyplot as plt\n",
    "from pandas_datareader import data\n",
    "from datetime import datetime\n",
    "from pandas import DataFrame\n",
    "\n",
    "DATA_FOLDER='../data'\n",
    "DEFAULT_START_DATE = '2000-01-01'\n",
    "DEFAULT_END_DATE = datetime.now().strftime(\"%Y-%m-%d\")\n",
    "STOCK_TICK_SOURCE = 'yahoo'\n",
    "\n",
    "def get_ticker_df(tick: str, start_dt: str=DEFAULT_START_DATE, end_dt: str=DEFAULT_END_DATE) -> pd.DataFrame:\n",
    "\n",
    "    ticker_file = f\"{DATA_FOLDER}/{tick}.pkl\"\n",
    "    if os.path.isfile(ticker_file):\n",
    "        result = pd.read_pickle(ticker_file)\n",
    "    else:\n",
    "        result = data.DataReader(tick, STOCK_TICK_SOURCE, DEFAULT_START_DATE, DEFAULT_END_DATE)\n",
    "        result.to_pickle(ticker_file)\n",
    "\n",
    "    return result.loc[start_dt: end_dt]\n",
    "\n",
    "\n",
    "def massage_dataframe(ticker_df: DataFrame):\n",
    "    return ticker_df.rename(columns={'Adj Close':'price'}).rename(columns={'Volume':'volume'})\n",
    "\n",
    "def create_signal_simplest_trend(df):\n",
    "\n",
    "    result = pd.DataFrame(index=df.index)\n",
    "    result['price'] = df['price']\n",
    "    result['daily_diff'] = result['price'].diff()\n",
    "    result['price_direction'] = 0.0\n",
    "    result['price_direction'] = np.where(result['daily_diff'] >= 0, 1.0, 0.0)\n",
    "    result['signal'] = result['price_direction'].diff()\n",
    "\n",
    "    return result\n",
    "\n",
    "def create_signal_position(df, initial_capital, signal_column = \"signal\", operation_cost=1.0):\n",
    "\n",
    "    positions = pd.DataFrame(index=df.index).fillna(0.0)\n",
    "    portfolio = pd.DataFrame(index=df.index).fillna(0.0)\n",
    "\n",
    "    positions['signal'] = df[signal_column]\n",
    "    positions['operation_cost'] = np.where(df[signal_column] > 0, operation_cost, 0.0)\n",
    "\n",
    "    portfolio['trx'] = (positions['signal'].multiply(df['price'], axis=0) + positions['operation_cost'] )\n",
    "    portfolio['exposure'] = positions['signal'].cumsum()\n",
    "    portfolio['position'] = portfolio['exposure'].multiply(df['price'], axis=0)\n",
    "    portfolio['cash'] = initial_capital - (portfolio['trx']).cumsum()\n",
    "    portfolio['total'] = portfolio['position'] + portfolio['cash']\n",
    "    return portfolio\n",
    "\n",
    "def plot_position(position):\n",
    "    fig = plt.figure()\n",
    "    ax1 = fig.add_subplot(111)\n",
    "    position['position'].plot(ax=ax1, color='y', lw=2., ylabel='position', legend=True)\n",
    "    position['cash'].plot(ax=ax1, color='b', lw=2., ylabel='cash', legend=True)\n",
    "    position['total'].plot(ax=ax1, color='g', lw=2., ylabel='total', legend=True)\n",
    "\n",
    "def signal_analysis(ticker, start, signal_producer, operation_cost=0.0, initial_capital=1000.0):\n",
    "    d = massage_dataframe(get_ticker_df(ticker, start))\n",
    "    position = create_signal_position(signal_producer(d), initial_capital, operation_cost=operation_cost)\n",
    "    #print(position.head(16))\n",
    "    #print(position.tail(16))\n",
    "    plot_position(position)\n"
   ]
  },
  {
   "cell_type": "markdown",
   "source": [
    "### simple signals"
   ],
   "metadata": {
    "collapsed": false
   }
  },
  {
   "cell_type": "code",
   "execution_count": 2,
   "metadata": {
    "pycharm": {
     "name": "#%%\n"
    }
   },
   "outputs": [],
   "source": [
    "#signal_analysis('GOOG','2018-01-01', create_signal_simplest_trend)\n",
    "#signal_analysis('AMZN','2018-01-01', create_signal_simplest_trend)\n",
    "#signal_analysis('TSLA','2018-01-01', create_signal_simplest_trend)\n",
    "#signal_analysis('PBW','2018-01-01', create_signal_simplest_trend)\n",
    "#signal_analysis('QCLN','2018-01-01', create_signal_simplest_trend)"
   ]
  },
  {
   "cell_type": "code",
   "execution_count": 3,
   "outputs": [],
   "source": [
    "def signal_support_resistance(df, bin_width:int=20, tolerance:float=0.2, signal_count_trigger:int=2):\n",
    "\n",
    "    df['sup_tolerance'] = 0.0\n",
    "    df['res_tolerance'] = 0.0\n",
    "    df['sup_count'] = 0\n",
    "    df['res_count'] = 0\n",
    "    df['sup'] = 0.0\n",
    "    df['res'] = 0.0\n",
    "    df['positions'] = 0\n",
    "    df['signal'] = 0\n",
    "    in_support=0\n",
    "    in_resistance=0\n",
    "\n",
    "    for x in range(bin_width-1, len(df)):\n",
    "        df_section = df[x + 1 - bin_width:x + 1]\n",
    "        support_level=min(df_section['price'])\n",
    "        resistance_level=max(df_section['price'])\n",
    "        range_level = resistance_level - support_level\n",
    "        df['res'][x] = resistance_level\n",
    "        df['sup'][x] = support_level\n",
    "        df['sup_tolerance'][x]=support_level + tolerance * range_level\n",
    "        df['res_tolerance'][x]=resistance_level - tolerance * range_level\n",
    "        if df['price'][x] >= df['res_tolerance'][x] and df['price'][x] <= df['res'][x]:\n",
    "            in_resistance += 1\n",
    "            df['res_count'][x]=in_resistance\n",
    "        elif df['price'][x] <= df['sup_tolerance'][x] and df['price'][x] >= df['sup'][x]:\n",
    "            in_support += 1\n",
    "            df['sup_count'][x] = in_support\n",
    "        else:\n",
    "            in_support=0\n",
    "            in_resistance=0\n",
    "        if in_resistance > signal_count_trigger:\n",
    "            df['signal'][x]=1\n",
    "        elif in_support > signal_count_trigger:\n",
    "            df['signal'][x]=0\n",
    "        else:\n",
    "            df['signal'][x] = df['signal'][x-1]\n",
    "\n",
    "    return df\n",
    "\n",
    "def create_signal_position(df, initial_capital, signal_column = \"signal\", operation_cost=1.0):\n",
    "\n",
    "    positions = pd.DataFrame(index=df.index).fillna(0.0)\n",
    "    portfolio = pd.DataFrame(index=df.index).fillna(0.0)\n",
    "\n",
    "    positions['signal'] = df[signal_column]\n",
    "    positions['operation_cost'] = np.where(df[signal_column] > 0, operation_cost, 0.0)\n",
    "\n",
    "    portfolio['trx'] = (positions['signal'].multiply(df['price'], axis=0) + positions['operation_cost'] )\n",
    "    portfolio['exposure'] = positions['signal'].cumsum()\n",
    "    portfolio['position'] = portfolio['exposure'].multiply(df['price'], axis=0)\n",
    "    portfolio['cash'] = initial_capital - (portfolio['trx']).cumsum()\n",
    "    portfolio['total'] = portfolio['position'] + portfolio['cash']\n",
    "    return portfolio\n",
    "\n",
    "def plot_position(df, y_label:str=\"\", support_col:str=None, resistance_col:str=None):\n",
    "    fig = plt.figure(figsize=[25.6,19.2])\n",
    "    ax1 = fig.add_subplot(311, ylabel=f'{y_label} price in $')\n",
    "    if support_col is not None:\n",
    "        df[support_col].plot(ax=ax1, color='g', lw=2.)\n",
    "    if resistance_col is not None:\n",
    "        df[resistance_col].plot(ax=ax1, color='b', lw=2.)\n",
    "    df['price'].plot(ax=ax1, color='r', lw=2.)\n",
    "    ax1.plot(df.loc[df.move == 1.0].index, df.price[df.move == 1.0], '^', markersize=7, color='k',label='buy')\n",
    "    ax1.plot(df.loc[df.move == -1.0].index, df.price[df.move == -1.0], 'v', markersize=7, color='k',label='sell')\n",
    "    plt.legend()\n",
    "    ax2 = fig.add_subplot(312, ylabel='portfolio in $')\n",
    "    df['position'].plot(ax=ax2, color='b', lw=2.)\n",
    "    df['cash'].plot(ax=ax2, color='g', lw=2.)\n",
    "    df['total'].plot(ax=ax2, color='r', lw=2.)\n",
    "    plt.legend()\n",
    "    ax3 = fig.add_subplot(313, ylabel='volume')\n",
    "    df['volume'].plot(ax=ax3, color='b', lw=2.)\n",
    "    plt.legend()\n",
    "    plt.show()\n",
    "\n",
    "\n",
    "\n",
    "def unfold_signal(df, initial_capital=1000.0, operation_cost=1.0):\n",
    "\n",
    "    df['move'] = df['signal'].diff()\n",
    "    df['operation_cost'] = np.where(df['move'] != 0, operation_cost, 0.0)\n",
    "    df['trx'] = np.where(df['move'] == 0, 0.0, df['move'].multiply(df['price'], axis=0) + df['operation_cost'] )\n",
    "    df['exposure'] = df['move'].cumsum()\n",
    "    df['position'] = df['exposure'].multiply(df['price'], axis=0)\n",
    "    df['cash'] = initial_capital - (df['trx']).cumsum()\n",
    "    df['total'] = df['position'] + df['cash']\n",
    "\n",
    "    return df"
   ],
   "metadata": {
    "collapsed": false,
    "pycharm": {
     "name": "#%%\n"
    }
   }
  },
  {
   "cell_type": "code",
   "execution_count": 4,
   "outputs": [],
   "source": [
    "def plot_position2(df, ticker:str=\"\", additional_colums: Optional[List[str]] = None):\n",
    "\n",
    "\n",
    "\n",
    "    price_plot_columns = [\"price\"]\n",
    "    position_plot_columns = ['position', 'cash', 'total']\n",
    "    columns_required = price_plot_columns + position_plot_columns + [\"move\", 'volume']\n",
    "\n",
    "    if not set(columns_required).issubset(df.columns.to_list()):\n",
    "        raise ValueError(f\"required columns not there: {columns_required}\")\n",
    "\n",
    "    fig = plt.figure(figsize=[25.6,19.2])\n",
    "    ax1 = fig.add_subplot(311, ylabel=f'{ticker} price in $')\n",
    "\n",
    "    for col in price_plot_columns + ([] if additional_colums is None else additional_colums):\n",
    "        df[col].plot(ax=ax1, lw=2.)\n",
    "\n",
    "    ax1.plot(df.loc[df.move == 1.0].index, df.price[df.move == 1.0], '^', markersize=7, color='k',label='buy')\n",
    "    ax1.plot(df.loc[df.move == -1.0].index, df.price[df.move == -1.0], 'v', markersize=7, color='k',label='sell')\n",
    "    plt.legend()\n",
    "\n",
    "    ax2 = fig.add_subplot(312, ylabel='portfolio in $')\n",
    "    for col in position_plot_columns:\n",
    "        df[col].plot(ax=ax2,  lw=2.)\n",
    "    plt.legend()\n",
    "\n",
    "    ax3 = fig.add_subplot(313, ylabel='volume')\n",
    "    df['volume'].plot(ax=ax3, lw=2.)\n",
    "    plt.legend()\n",
    "\n",
    "    plt.show()"
   ],
   "metadata": {
    "collapsed": false,
    "pycharm": {
     "name": "#%%\n"
    }
   }
  },
  {
   "cell_type": "code",
   "execution_count": 3,
   "outputs": [
    {
     "name": "stdout",
     "output_type": "stream",
     "text": [
      "2021-10-24 23:50:36.189917\n",
      "                  High         Low        Open       Close   Volume  \\\n",
      "Date                                                                  \n",
      "2021-10-27  108.279999  103.690002  107.879997  103.849998  8841653   \n",
      "\n",
      "             Adj Close  \n",
      "Date                    \n",
      "2021-10-27  103.849998  \n"
     ]
    }
   ],
   "source": [
    "import datetime\n",
    "import dateutil.relativedelta\n",
    "import pandas_datareader.data as client\n",
    "\n",
    "START_DATE = (datetime.datetime.now() - dateutil.relativedelta.relativedelta(days=3))\n",
    "print(START_DATE)\n",
    "END_DATE = datetime.datetime.now()#.strftime(\"%Y-%m-%d\")\n",
    "\n",
    "STOCK_TICK_SOURCE = 'yahoo'\n",
    "tick = 'GE'\n",
    "result = client.DataReader(tick, STOCK_TICK_SOURCE, start=START_DATE, end=END_DATE)[-1:]\n",
    "\n",
    "print(result)"
   ],
   "metadata": {
    "collapsed": false,
    "pycharm": {
     "name": "#%%\n"
    }
   }
  },
  {
   "cell_type": "code",
   "execution_count": null,
   "outputs": [],
   "source": [
    "\n",
    "def get_ticker_df(tick: str, start_dt: str=DEFAULT_START_DATE, end_dt: str=DEFAULT_END_DATE) -> pd.DataFrame:\n",
    "\n",
    "    ticker_file = f\"{DATA_FOLDER}/{tick}.pkl\"\n",
    "    if os.path.isfile(ticker_file):\n",
    "        result = pd.read_pickle(ticker_file)\n",
    "    else:\n",
    "        result = data.DataReader(tick, STOCK_TICK_SOURCE, DEFAULT_START_DATE, DEFAULT_END_DATE)\n",
    "        result.to_pickle(ticker_file)\n",
    "\n",
    "    return result.loc[start_dt: end_dt]\n",
    "\n",
    "\n",
    "def massage_dataframe(ticker_df: DataFrame):\n",
    "    return ticker_df.rename(columns={'Adj Close':'price'}).rename(columns={'Volume':'volume'})\n",
    "\n",
    "ticker = 'GOOG'\n",
    "df_ticker = massage_dataframe(get_ticker_df(ticker))\n",
    "print(df_ticker)\n",
    "#df_support_resistance = signal_support_resistance(df_ticker, signal_count_trigger=3)\n",
    "#df_support_resistance = unfold_signal(df_support_resistance)\n",
    "\n",
    "#plot_position(df_support_resistance, y_label=ticker, support_col='sup', resistance_col='res')\n",
    "\n",
    "#plot_position2(df_support_resistance, ticker=ticker, additional_colums=['sup','res'])\n",
    "\n"
   ],
   "metadata": {
    "collapsed": false,
    "pycharm": {
     "name": "#%%\n"
    }
   }
  },
  {
   "cell_type": "code",
   "execution_count": 35,
   "outputs": [
    {
     "data": {
      "text/plain": "                   High          Low         Open        Close      volume  \\\nDate                                                                         \n2004-08-19    51.835709    47.800831    49.813290    49.982655  44871361.0   \n2004-08-20    54.336334    50.062355    50.316402    53.952770  22942874.0   \n2004-08-23    56.528118    54.321388    55.168217    54.495735  18342897.0   \n2004-08-24    55.591629    51.591621    55.412300    52.239197  15319808.0   \n2004-08-25    53.798351    51.746044    52.284027    52.802086   9232276.0   \n...                 ...          ...          ...          ...         ...   \n2021-03-10  2075.000000  2033.369995  2071.760010  2055.030029   1267800.0   \n2021-03-11  2125.699951  2072.379883  2074.060059  2114.770020   1238300.0   \n2021-03-12  2090.260010  2047.550049  2085.000000  2061.919922   1725000.0   \n2021-03-15  2067.060059  2043.510010  2062.300049  2066.489990   1298100.0   \n2021-03-16  2123.560059  2070.280029  2078.989990  2092.520020   1440446.0   \n\n                  price  sup_tolerance  res_tolerance  sup_count  res_count  \\\nDate                                                                          \n2004-08-19    49.982655       0.000000       0.000000          0          0   \n2004-08-20    53.952770       0.000000       0.000000          0          0   \n2004-08-23    54.495735       0.000000       0.000000          0          0   \n2004-08-24    52.239197       0.000000       0.000000          0          0   \n2004-08-25    52.802086       0.000000       0.000000          0          0   \n...                 ...            ...            ...        ...        ...   \n2021-03-10  2055.030029    2044.998047    2107.482056          0          0   \n2021-03-11  2114.770020    2044.998047    2107.482056          0          1   \n2021-03-12  2061.919922    2044.998047    2107.482056          0          0   \n2021-03-15  2066.489990    2044.998047    2107.482056          0          0   \n2021-03-16  2092.520020    2044.998047    2107.482056          0          0   \n\n            ...          res  positions  signal  move  operation_cost  trx  \\\nDate        ...                                                              \n2004-08-19  ...     0.000000          0       0   NaN             1.0  NaN   \n2004-08-20  ...     0.000000          0       0   0.0             0.0  0.0   \n2004-08-23  ...     0.000000          0       0   0.0             0.0  0.0   \n2004-08-24  ...     0.000000          0       0   0.0             0.0  0.0   \n2004-08-25  ...     0.000000          0       0   0.0             0.0  0.0   \n...         ...          ...        ...     ...   ...             ...  ...   \n2021-03-10  ...  2128.310059          0       1   0.0             0.0  0.0   \n2021-03-11  ...  2128.310059          0       1   0.0             0.0  0.0   \n2021-03-12  ...  2128.310059          0       1   0.0             0.0  0.0   \n2021-03-15  ...  2128.310059          0       1   0.0             0.0  0.0   \n2021-03-16  ...  2128.310059          0       1   0.0             0.0  0.0   \n\n            exposure     position         cash        total  \nDate                                                         \n2004-08-19       NaN          NaN          NaN          NaN  \n2004-08-20       0.0     0.000000  1000.000000  1000.000000  \n2004-08-23       0.0     0.000000  1000.000000  1000.000000  \n2004-08-24       0.0     0.000000  1000.000000  1000.000000  \n2004-08-25       0.0     0.000000  1000.000000  1000.000000  \n...              ...          ...          ...          ...  \n2021-03-10       1.0  2055.030029    98.833202  2153.863232  \n2021-03-11       1.0  2114.770020    98.833202  2213.603222  \n2021-03-12       1.0  2061.919922    98.833202  2160.753124  \n2021-03-15       1.0  2066.489990    98.833202  2165.323193  \n2021-03-16       1.0  2092.520020    98.833202  2191.353222  \n\n[4172 rows x 21 columns]",
      "text/html": "<div>\n<style scoped>\n    .dataframe tbody tr th:only-of-type {\n        vertical-align: middle;\n    }\n\n    .dataframe tbody tr th {\n        vertical-align: top;\n    }\n\n    .dataframe thead th {\n        text-align: right;\n    }\n</style>\n<table border=\"1\" class=\"dataframe\">\n  <thead>\n    <tr style=\"text-align: right;\">\n      <th></th>\n      <th>High</th>\n      <th>Low</th>\n      <th>Open</th>\n      <th>Close</th>\n      <th>volume</th>\n      <th>price</th>\n      <th>sup_tolerance</th>\n      <th>res_tolerance</th>\n      <th>sup_count</th>\n      <th>res_count</th>\n      <th>...</th>\n      <th>res</th>\n      <th>positions</th>\n      <th>signal</th>\n      <th>move</th>\n      <th>operation_cost</th>\n      <th>trx</th>\n      <th>exposure</th>\n      <th>position</th>\n      <th>cash</th>\n      <th>total</th>\n    </tr>\n    <tr>\n      <th>Date</th>\n      <th></th>\n      <th></th>\n      <th></th>\n      <th></th>\n      <th></th>\n      <th></th>\n      <th></th>\n      <th></th>\n      <th></th>\n      <th></th>\n      <th></th>\n      <th></th>\n      <th></th>\n      <th></th>\n      <th></th>\n      <th></th>\n      <th></th>\n      <th></th>\n      <th></th>\n      <th></th>\n      <th></th>\n    </tr>\n  </thead>\n  <tbody>\n    <tr>\n      <th>2004-08-19</th>\n      <td>51.835709</td>\n      <td>47.800831</td>\n      <td>49.813290</td>\n      <td>49.982655</td>\n      <td>44871361.0</td>\n      <td>49.982655</td>\n      <td>0.000000</td>\n      <td>0.000000</td>\n      <td>0</td>\n      <td>0</td>\n      <td>...</td>\n      <td>0.000000</td>\n      <td>0</td>\n      <td>0</td>\n      <td>NaN</td>\n      <td>1.0</td>\n      <td>NaN</td>\n      <td>NaN</td>\n      <td>NaN</td>\n      <td>NaN</td>\n      <td>NaN</td>\n    </tr>\n    <tr>\n      <th>2004-08-20</th>\n      <td>54.336334</td>\n      <td>50.062355</td>\n      <td>50.316402</td>\n      <td>53.952770</td>\n      <td>22942874.0</td>\n      <td>53.952770</td>\n      <td>0.000000</td>\n      <td>0.000000</td>\n      <td>0</td>\n      <td>0</td>\n      <td>...</td>\n      <td>0.000000</td>\n      <td>0</td>\n      <td>0</td>\n      <td>0.0</td>\n      <td>0.0</td>\n      <td>0.0</td>\n      <td>0.0</td>\n      <td>0.000000</td>\n      <td>1000.000000</td>\n      <td>1000.000000</td>\n    </tr>\n    <tr>\n      <th>2004-08-23</th>\n      <td>56.528118</td>\n      <td>54.321388</td>\n      <td>55.168217</td>\n      <td>54.495735</td>\n      <td>18342897.0</td>\n      <td>54.495735</td>\n      <td>0.000000</td>\n      <td>0.000000</td>\n      <td>0</td>\n      <td>0</td>\n      <td>...</td>\n      <td>0.000000</td>\n      <td>0</td>\n      <td>0</td>\n      <td>0.0</td>\n      <td>0.0</td>\n      <td>0.0</td>\n      <td>0.0</td>\n      <td>0.000000</td>\n      <td>1000.000000</td>\n      <td>1000.000000</td>\n    </tr>\n    <tr>\n      <th>2004-08-24</th>\n      <td>55.591629</td>\n      <td>51.591621</td>\n      <td>55.412300</td>\n      <td>52.239197</td>\n      <td>15319808.0</td>\n      <td>52.239197</td>\n      <td>0.000000</td>\n      <td>0.000000</td>\n      <td>0</td>\n      <td>0</td>\n      <td>...</td>\n      <td>0.000000</td>\n      <td>0</td>\n      <td>0</td>\n      <td>0.0</td>\n      <td>0.0</td>\n      <td>0.0</td>\n      <td>0.0</td>\n      <td>0.000000</td>\n      <td>1000.000000</td>\n      <td>1000.000000</td>\n    </tr>\n    <tr>\n      <th>2004-08-25</th>\n      <td>53.798351</td>\n      <td>51.746044</td>\n      <td>52.284027</td>\n      <td>52.802086</td>\n      <td>9232276.0</td>\n      <td>52.802086</td>\n      <td>0.000000</td>\n      <td>0.000000</td>\n      <td>0</td>\n      <td>0</td>\n      <td>...</td>\n      <td>0.000000</td>\n      <td>0</td>\n      <td>0</td>\n      <td>0.0</td>\n      <td>0.0</td>\n      <td>0.0</td>\n      <td>0.0</td>\n      <td>0.000000</td>\n      <td>1000.000000</td>\n      <td>1000.000000</td>\n    </tr>\n    <tr>\n      <th>...</th>\n      <td>...</td>\n      <td>...</td>\n      <td>...</td>\n      <td>...</td>\n      <td>...</td>\n      <td>...</td>\n      <td>...</td>\n      <td>...</td>\n      <td>...</td>\n      <td>...</td>\n      <td>...</td>\n      <td>...</td>\n      <td>...</td>\n      <td>...</td>\n      <td>...</td>\n      <td>...</td>\n      <td>...</td>\n      <td>...</td>\n      <td>...</td>\n      <td>...</td>\n      <td>...</td>\n    </tr>\n    <tr>\n      <th>2021-03-10</th>\n      <td>2075.000000</td>\n      <td>2033.369995</td>\n      <td>2071.760010</td>\n      <td>2055.030029</td>\n      <td>1267800.0</td>\n      <td>2055.030029</td>\n      <td>2044.998047</td>\n      <td>2107.482056</td>\n      <td>0</td>\n      <td>0</td>\n      <td>...</td>\n      <td>2128.310059</td>\n      <td>0</td>\n      <td>1</td>\n      <td>0.0</td>\n      <td>0.0</td>\n      <td>0.0</td>\n      <td>1.0</td>\n      <td>2055.030029</td>\n      <td>98.833202</td>\n      <td>2153.863232</td>\n    </tr>\n    <tr>\n      <th>2021-03-11</th>\n      <td>2125.699951</td>\n      <td>2072.379883</td>\n      <td>2074.060059</td>\n      <td>2114.770020</td>\n      <td>1238300.0</td>\n      <td>2114.770020</td>\n      <td>2044.998047</td>\n      <td>2107.482056</td>\n      <td>0</td>\n      <td>1</td>\n      <td>...</td>\n      <td>2128.310059</td>\n      <td>0</td>\n      <td>1</td>\n      <td>0.0</td>\n      <td>0.0</td>\n      <td>0.0</td>\n      <td>1.0</td>\n      <td>2114.770020</td>\n      <td>98.833202</td>\n      <td>2213.603222</td>\n    </tr>\n    <tr>\n      <th>2021-03-12</th>\n      <td>2090.260010</td>\n      <td>2047.550049</td>\n      <td>2085.000000</td>\n      <td>2061.919922</td>\n      <td>1725000.0</td>\n      <td>2061.919922</td>\n      <td>2044.998047</td>\n      <td>2107.482056</td>\n      <td>0</td>\n      <td>0</td>\n      <td>...</td>\n      <td>2128.310059</td>\n      <td>0</td>\n      <td>1</td>\n      <td>0.0</td>\n      <td>0.0</td>\n      <td>0.0</td>\n      <td>1.0</td>\n      <td>2061.919922</td>\n      <td>98.833202</td>\n      <td>2160.753124</td>\n    </tr>\n    <tr>\n      <th>2021-03-15</th>\n      <td>2067.060059</td>\n      <td>2043.510010</td>\n      <td>2062.300049</td>\n      <td>2066.489990</td>\n      <td>1298100.0</td>\n      <td>2066.489990</td>\n      <td>2044.998047</td>\n      <td>2107.482056</td>\n      <td>0</td>\n      <td>0</td>\n      <td>...</td>\n      <td>2128.310059</td>\n      <td>0</td>\n      <td>1</td>\n      <td>0.0</td>\n      <td>0.0</td>\n      <td>0.0</td>\n      <td>1.0</td>\n      <td>2066.489990</td>\n      <td>98.833202</td>\n      <td>2165.323193</td>\n    </tr>\n    <tr>\n      <th>2021-03-16</th>\n      <td>2123.560059</td>\n      <td>2070.280029</td>\n      <td>2078.989990</td>\n      <td>2092.520020</td>\n      <td>1440446.0</td>\n      <td>2092.520020</td>\n      <td>2044.998047</td>\n      <td>2107.482056</td>\n      <td>0</td>\n      <td>0</td>\n      <td>...</td>\n      <td>2128.310059</td>\n      <td>0</td>\n      <td>1</td>\n      <td>0.0</td>\n      <td>0.0</td>\n      <td>0.0</td>\n      <td>1.0</td>\n      <td>2092.520020</td>\n      <td>98.833202</td>\n      <td>2191.353222</td>\n    </tr>\n  </tbody>\n</table>\n<p>4172 rows × 21 columns</p>\n</div>"
     },
     "execution_count": 35,
     "metadata": {},
     "output_type": "execute_result"
    }
   ],
   "source": [
    "df_support_resistance"
   ],
   "metadata": {
    "collapsed": false,
    "pycharm": {
     "name": "#%%\n"
    }
   }
  },
  {
   "cell_type": "code",
   "execution_count": null,
   "outputs": [],
   "source": [
    "s = data.get_nasdaq_symbols()"
   ],
   "metadata": {
    "collapsed": false,
    "pycharm": {
     "name": "#%%\n"
    }
   }
  },
  {
   "cell_type": "code",
   "execution_count": 5,
   "outputs": [],
   "source": [
    "nasdaq_symbols = s[(s['Listing Exchange']=='N') & (~s['Financial Status'].isin(['D', 'E', 'Q', 'G', 'H', 'J', 'K'])) & \\\n",
    "                   (s['Test Issue']==False) & (s['Nasdaq Traded']==True) ]"
   ],
   "metadata": {
    "collapsed": false,
    "pycharm": {
     "name": "#%%\n"
    }
   }
  },
  {
   "cell_type": "code",
   "execution_count": 8,
   "outputs": [
    {
     "data": {
      "text/plain": "        Nasdaq Traded                                      Security Name  \\\nSymbol                                                                     \nA                True            Agilent Technologies, Inc. Common Stock   \nAA               True                    Alcoa Corporation Common Stock    \nAAC              True  Ares Acquisition Corporation Class A Ordinary ...   \nAAC.U            True  Ares Acquisition Corporation Units, each consi...   \nAAC.W            True  Ares Acquisition Corporation Redeemable Warran...   \n...               ...                                                ...   \nZTO              True  ZTO Express (Cayman) Inc. American Depositary ...   \nZTR              True                      Virtus Total Return Fund Inc.   \nZTS              True                   Zoetis Inc. Class A Common Stock   \nZUO              True                   Zuora, Inc. Class A Common Stock   \nZYME             True                       Zymeworks Inc. Common Shares   \n\n       Listing Exchange Market Category    ETF  Round Lot Size  Test Issue  \\\nSymbol                                                                       \nA                     N                  False           100.0       False   \nAA                    N                  False           100.0       False   \nAAC                   N                  False           100.0       False   \nAAC.U                 N                  False           100.0       False   \nAAC.W                 N                  False           100.0       False   \n...                 ...             ...    ...             ...         ...   \nZTO                   N                  False           100.0       False   \nZTR                   N                  False           100.0       False   \nZTS                   N                  False           100.0       False   \nZUO                   N                  False           100.0       False   \nZYME                  N                  False           100.0       False   \n\n       Financial Status CQS Symbol NASDAQ Symbol  NextShares  \nSymbol                                                        \nA                   NaN          A             A       False  \nAA                  NaN         AA            AA       False  \nAAC                 NaN        AAC           AAC       False  \nAAC.U               NaN      AAC.U          AAC=       False  \nAAC.W               NaN     AAC.WS          AAC+       False  \n...                 ...        ...           ...         ...  \nZTO                 NaN        ZTO           ZTO       False  \nZTR                 NaN        ZTR           ZTR       False  \nZTS                 NaN        ZTS           ZTS       False  \nZUO                 NaN        ZUO           ZUO       False  \nZYME                NaN       ZYME          ZYME       False  \n\n[3454 rows x 11 columns]",
      "text/html": "<div>\n<style scoped>\n    .dataframe tbody tr th:only-of-type {\n        vertical-align: middle;\n    }\n\n    .dataframe tbody tr th {\n        vertical-align: top;\n    }\n\n    .dataframe thead th {\n        text-align: right;\n    }\n</style>\n<table border=\"1\" class=\"dataframe\">\n  <thead>\n    <tr style=\"text-align: right;\">\n      <th></th>\n      <th>Nasdaq Traded</th>\n      <th>Security Name</th>\n      <th>Listing Exchange</th>\n      <th>Market Category</th>\n      <th>ETF</th>\n      <th>Round Lot Size</th>\n      <th>Test Issue</th>\n      <th>Financial Status</th>\n      <th>CQS Symbol</th>\n      <th>NASDAQ Symbol</th>\n      <th>NextShares</th>\n    </tr>\n    <tr>\n      <th>Symbol</th>\n      <th></th>\n      <th></th>\n      <th></th>\n      <th></th>\n      <th></th>\n      <th></th>\n      <th></th>\n      <th></th>\n      <th></th>\n      <th></th>\n      <th></th>\n    </tr>\n  </thead>\n  <tbody>\n    <tr>\n      <th>A</th>\n      <td>True</td>\n      <td>Agilent Technologies, Inc. Common Stock</td>\n      <td>N</td>\n      <td></td>\n      <td>False</td>\n      <td>100.0</td>\n      <td>False</td>\n      <td>NaN</td>\n      <td>A</td>\n      <td>A</td>\n      <td>False</td>\n    </tr>\n    <tr>\n      <th>AA</th>\n      <td>True</td>\n      <td>Alcoa Corporation Common Stock</td>\n      <td>N</td>\n      <td></td>\n      <td>False</td>\n      <td>100.0</td>\n      <td>False</td>\n      <td>NaN</td>\n      <td>AA</td>\n      <td>AA</td>\n      <td>False</td>\n    </tr>\n    <tr>\n      <th>AAC</th>\n      <td>True</td>\n      <td>Ares Acquisition Corporation Class A Ordinary ...</td>\n      <td>N</td>\n      <td></td>\n      <td>False</td>\n      <td>100.0</td>\n      <td>False</td>\n      <td>NaN</td>\n      <td>AAC</td>\n      <td>AAC</td>\n      <td>False</td>\n    </tr>\n    <tr>\n      <th>AAC.U</th>\n      <td>True</td>\n      <td>Ares Acquisition Corporation Units, each consi...</td>\n      <td>N</td>\n      <td></td>\n      <td>False</td>\n      <td>100.0</td>\n      <td>False</td>\n      <td>NaN</td>\n      <td>AAC.U</td>\n      <td>AAC=</td>\n      <td>False</td>\n    </tr>\n    <tr>\n      <th>AAC.W</th>\n      <td>True</td>\n      <td>Ares Acquisition Corporation Redeemable Warran...</td>\n      <td>N</td>\n      <td></td>\n      <td>False</td>\n      <td>100.0</td>\n      <td>False</td>\n      <td>NaN</td>\n      <td>AAC.WS</td>\n      <td>AAC+</td>\n      <td>False</td>\n    </tr>\n    <tr>\n      <th>...</th>\n      <td>...</td>\n      <td>...</td>\n      <td>...</td>\n      <td>...</td>\n      <td>...</td>\n      <td>...</td>\n      <td>...</td>\n      <td>...</td>\n      <td>...</td>\n      <td>...</td>\n      <td>...</td>\n    </tr>\n    <tr>\n      <th>ZTO</th>\n      <td>True</td>\n      <td>ZTO Express (Cayman) Inc. American Depositary ...</td>\n      <td>N</td>\n      <td></td>\n      <td>False</td>\n      <td>100.0</td>\n      <td>False</td>\n      <td>NaN</td>\n      <td>ZTO</td>\n      <td>ZTO</td>\n      <td>False</td>\n    </tr>\n    <tr>\n      <th>ZTR</th>\n      <td>True</td>\n      <td>Virtus Total Return Fund Inc.</td>\n      <td>N</td>\n      <td></td>\n      <td>False</td>\n      <td>100.0</td>\n      <td>False</td>\n      <td>NaN</td>\n      <td>ZTR</td>\n      <td>ZTR</td>\n      <td>False</td>\n    </tr>\n    <tr>\n      <th>ZTS</th>\n      <td>True</td>\n      <td>Zoetis Inc. Class A Common Stock</td>\n      <td>N</td>\n      <td></td>\n      <td>False</td>\n      <td>100.0</td>\n      <td>False</td>\n      <td>NaN</td>\n      <td>ZTS</td>\n      <td>ZTS</td>\n      <td>False</td>\n    </tr>\n    <tr>\n      <th>ZUO</th>\n      <td>True</td>\n      <td>Zuora, Inc. Class A Common Stock</td>\n      <td>N</td>\n      <td></td>\n      <td>False</td>\n      <td>100.0</td>\n      <td>False</td>\n      <td>NaN</td>\n      <td>ZUO</td>\n      <td>ZUO</td>\n      <td>False</td>\n    </tr>\n    <tr>\n      <th>ZYME</th>\n      <td>True</td>\n      <td>Zymeworks Inc. Common Shares</td>\n      <td>N</td>\n      <td></td>\n      <td>False</td>\n      <td>100.0</td>\n      <td>False</td>\n      <td>NaN</td>\n      <td>ZYME</td>\n      <td>ZYME</td>\n      <td>False</td>\n    </tr>\n  </tbody>\n</table>\n<p>3454 rows × 11 columns</p>\n</div>"
     },
     "execution_count": 8,
     "metadata": {},
     "output_type": "execute_result"
    }
   ],
   "source": [
    "nasdaq_symbols"
   ],
   "metadata": {
    "collapsed": false,
    "pycharm": {
     "name": "#%%\n"
    }
   }
  },
  {
   "cell_type": "code",
   "execution_count": 21,
   "outputs": [
    {
     "name": "stdout",
     "output_type": "stream",
     "text": [
      "lastdate: 2021-03-16 00:00:00\n"
     ]
    },
    {
     "data": {
      "text/plain": "                   High          Low        Open       Close     volume  \\\nDate                                                                      \n2021-03-16  2123.560059  2070.280029  2078.98999  2092.52002  1440446.0   \n\n                 price  sup_tolerance  res_tolerance  sup_count  res_count  \\\nDate                                                                         \n2021-03-16  2092.52002    2044.998047    2107.482056          0          0   \n\n            ...          res  positions  signal  move  operation_cost  trx  \\\nDate        ...                                                              \n2021-03-16  ...  2128.310059          0       1   0.0             0.0  0.0   \n\n            exposure    position       cash        total  \nDate                                                      \n2021-03-16       1.0  2092.52002  98.833202  2191.353222  \n\n[1 rows x 21 columns]",
      "text/html": "<div>\n<style scoped>\n    .dataframe tbody tr th:only-of-type {\n        vertical-align: middle;\n    }\n\n    .dataframe tbody tr th {\n        vertical-align: top;\n    }\n\n    .dataframe thead th {\n        text-align: right;\n    }\n</style>\n<table border=\"1\" class=\"dataframe\">\n  <thead>\n    <tr style=\"text-align: right;\">\n      <th></th>\n      <th>High</th>\n      <th>Low</th>\n      <th>Open</th>\n      <th>Close</th>\n      <th>volume</th>\n      <th>price</th>\n      <th>sup_tolerance</th>\n      <th>res_tolerance</th>\n      <th>sup_count</th>\n      <th>res_count</th>\n      <th>...</th>\n      <th>res</th>\n      <th>positions</th>\n      <th>signal</th>\n      <th>move</th>\n      <th>operation_cost</th>\n      <th>trx</th>\n      <th>exposure</th>\n      <th>position</th>\n      <th>cash</th>\n      <th>total</th>\n    </tr>\n    <tr>\n      <th>Date</th>\n      <th></th>\n      <th></th>\n      <th></th>\n      <th></th>\n      <th></th>\n      <th></th>\n      <th></th>\n      <th></th>\n      <th></th>\n      <th></th>\n      <th></th>\n      <th></th>\n      <th></th>\n      <th></th>\n      <th></th>\n      <th></th>\n      <th></th>\n      <th></th>\n      <th></th>\n      <th></th>\n      <th></th>\n    </tr>\n  </thead>\n  <tbody>\n    <tr>\n      <th>2021-03-16</th>\n      <td>2123.560059</td>\n      <td>2070.280029</td>\n      <td>2078.98999</td>\n      <td>2092.52002</td>\n      <td>1440446.0</td>\n      <td>2092.52002</td>\n      <td>2044.998047</td>\n      <td>2107.482056</td>\n      <td>0</td>\n      <td>0</td>\n      <td>...</td>\n      <td>2128.310059</td>\n      <td>0</td>\n      <td>1</td>\n      <td>0.0</td>\n      <td>0.0</td>\n      <td>0.0</td>\n      <td>1.0</td>\n      <td>2092.52002</td>\n      <td>98.833202</td>\n      <td>2191.353222</td>\n    </tr>\n  </tbody>\n</table>\n<p>1 rows × 21 columns</p>\n</div>"
     },
     "execution_count": 21,
     "metadata": {},
     "output_type": "execute_result"
    }
   ],
   "source": [
    "v = df_support_resistance.tail()\n",
    "lastdate = v.tail(1).index[0]\n",
    "\n",
    "print(f\"lastdate: {lastdate}\")\n",
    "v.loc[v.index == lastdate]\n"
   ],
   "metadata": {
    "collapsed": false,
    "pycharm": {
     "name": "#%%\n"
    }
   }
  },
  {
   "cell_type": "code",
   "execution_count": null,
   "outputs": [],
   "source": [],
   "metadata": {
    "collapsed": false,
    "pycharm": {
     "name": "#%%\n"
    }
   }
  }
 ],
 "metadata": {
  "kernelspec": {
   "display_name": "Python 3",
   "language": "python",
   "name": "python3"
  },
  "language_info": {
   "codemirror_mode": {
    "name": "ipython",
    "version": 3
   },
   "file_extension": ".py",
   "mimetype": "text/x-python",
   "name": "python",
   "nbconvert_exporter": "python",
   "pygments_lexer": "ipython3",
   "version": "3.7.9"
  }
 },
 "nbformat": 4,
 "nbformat_minor": 1
}