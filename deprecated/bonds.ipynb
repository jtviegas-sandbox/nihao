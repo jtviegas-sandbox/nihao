{
 "cells": [
  {
   "cell_type": "code",
   "execution_count": 12,
   "metadata": {
    "collapsed": true
   },
   "outputs": [],
   "source": [
    "import pandas as pd\n",
    "import yfinance as yf\n",
    "import matplotlib.pyplot as plt\n",
    "import datetime"
   ]
  },
  {
   "cell_type": "code",
   "execution_count": 15,
   "outputs": [],
   "source": [
    "FROM_DATE = datetime.datetime.fromisoformat('2015-01-01').strftime(\"%Y-%m-%d\")\n",
    "TO_DATE = datetime.date.today().strftime(\"%Y-%m-%d\")\n",
    "MATURITY = 120 # in months\n",
    "PERIOD=6 # in months\n",
    "INITIAL_PRICE=100\n",
    "PRINCIPAL = 100\n",
    "BOND = '^TNX'"
   ],
   "metadata": {
    "collapsed": false,
    "pycharm": {
     "name": "#%%\n"
    }
   }
  },
  {
   "cell_type": "code",
   "execution_count": 17,
   "outputs": [
    {
     "name": "stdout",
     "output_type": "stream",
     "text": [
      "[*********************100%***********************]  1 of 1 completed\n",
      "             Open   High    Low  Close  Adj Close  Volume\n",
      "Date                                                     \n",
      "2014-12-31  2.177  2.190  2.169  2.170      2.170       0\n",
      "2015-01-02  2.197  2.213  2.102  2.123      2.123       0\n",
      "2015-01-05  2.102  2.109  2.037  2.039      2.039       0\n",
      "2015-01-06  1.968  1.997  1.889  1.963      1.963       0\n",
      "2015-01-07  1.975  2.008  1.938  1.954      1.954       0\n"
     ]
    }
   ],
   "source": [
    "# Get the data for the SPY ETF by specifying the stock ticker, start date, and end date\n",
    "bronze = yf.download(BOND,FROM_DATE,TO_DATE)\n",
    "print(bronze.head())\n",
    "silver = pd.DataFrame(index=bronze.index)\n",
    "silver['yield'] = bronze[\"Adj Close\"]\n",
    "#silver.head()"
   ],
   "metadata": {
    "collapsed": false,
    "pycharm": {
     "name": "#%%\n"
    }
   }
  },
  {
   "cell_type": "code",
   "execution_count": 10,
   "outputs": [],
   "source": [
    "bond_yield = silver['yield'][0]\n",
    "coupon = bond_yield * PRINCIPAL / 100\n",
    "duration = ((1+bond_yield)/bond_yield)-(((1+bond_yield)+MATURITY*(coupon-bond_yield))/((coupon*((1-bond_yield)**MATURITY)-1)+bond_yield))\n",
    "\n",
    "\n",
    "\n",
    "#gold = pd.DataFrame( { \"yield\": [silver['yield'][0]], \"coupon\": [silver['yield'][0] * PRINCIPAL * PERIOD / 100]} )\n",
    "#gold"
   ],
   "metadata": {
    "collapsed": false,
    "pycharm": {
     "name": "#%%\n"
    }
   }
  },
  {
   "cell_type": "code",
   "execution_count": 80,
   "outputs": [
    {
     "ename": "TypeError",
     "evalue": "'float' object cannot be interpreted as an integer",
     "output_type": "error",
     "traceback": [
      "\u001B[0;31m---------------------------------------------------------------------------\u001B[0m",
      "\u001B[0;31mTypeError\u001B[0m                                 Traceback (most recent call last)",
      "\u001B[0;32m<ipython-input-80-e074992eaa91>\u001B[0m in \u001B[0;36m<module>\u001B[0;34m\u001B[0m\n\u001B[1;32m      1\u001B[0m \u001B[0msilver\u001B[0m\u001B[0;34m[\u001B[0m\u001B[0;34m'coupon'\u001B[0m\u001B[0;34m]\u001B[0m \u001B[0;34m=\u001B[0m \u001B[0msilver\u001B[0m\u001B[0;34m[\u001B[0m\u001B[0;34m'yield'\u001B[0m\u001B[0;34m]\u001B[0m \u001B[0;34m*\u001B[0m \u001B[0mPRINCIPAL\u001B[0m \u001B[0;34m/\u001B[0m \u001B[0;36m100\u001B[0m\u001B[0;34m\u001B[0m\u001B[0;34m\u001B[0m\u001B[0m\n\u001B[0;32m----> 2\u001B[0;31m \u001B[0;32mfor\u001B[0m \u001B[0mi\u001B[0m \u001B[0;32min\u001B[0m \u001B[0mrange\u001B[0m\u001B[0;34m(\u001B[0m\u001B[0;36m1\u001B[0m\u001B[0;34m,\u001B[0m \u001B[0mMATURITY\u001B[0m\u001B[0;34m+\u001B[0m\u001B[0;36m1\u001B[0m\u001B[0;34m,\u001B[0m \u001B[0;36m0.5\u001B[0m\u001B[0;34m)\u001B[0m\u001B[0;34m:\u001B[0m\u001B[0;34m\u001B[0m\u001B[0;34m\u001B[0m\u001B[0m\n\u001B[0m\u001B[1;32m      3\u001B[0m     \u001B[0mprint\u001B[0m\u001B[0;34m(\u001B[0m\u001B[0mi\u001B[0m\u001B[0;34m)\u001B[0m\u001B[0;34m\u001B[0m\u001B[0;34m\u001B[0m\u001B[0m\n\u001B[1;32m      4\u001B[0m \u001B[0;34m\u001B[0m\u001B[0m\n\u001B[1;32m      5\u001B[0m \u001B[0msilver\u001B[0m\u001B[0;34m.\u001B[0m\u001B[0mhead\u001B[0m\u001B[0;34m(\u001B[0m\u001B[0;34m)\u001B[0m\u001B[0;34m\u001B[0m\u001B[0;34m\u001B[0m\u001B[0m\n",
      "\u001B[0;31mTypeError\u001B[0m: 'float' object cannot be interpreted as an integer"
     ]
    }
   ],
   "source": [
    "\n",
    "silver['coupon'] = silver['yield'] * PRINCIPAL * PERIOD\n",
    "for i in range(1, (MATURITY * 12/PERIOD)+1):\n",
    "    print(i)\n",
    "\n",
    "\n",
    "\n",
    "silver.head()\n"
   ],
   "metadata": {
    "collapsed": false,
    "pycharm": {
     "name": "#%%\n"
    }
   }
  },
  {
   "cell_type": "code",
   "execution_count": null,
   "outputs": [],
   "source": [
    "# Plot the close prices\n",
    "silver.plot()\n",
    "plt.show()"
   ],
   "metadata": {
    "collapsed": false,
    "pycharm": {
     "name": "#%%\n"
    }
   }
  },
  {
   "cell_type": "code",
   "execution_count": null,
   "outputs": [],
   "source": [],
   "metadata": {
    "collapsed": false,
    "pycharm": {
     "name": "#%%\n"
    }
   }
  }
 ],
 "metadata": {
  "kernelspec": {
   "display_name": "Python 3",
   "language": "python",
   "name": "python3"
  },
  "language_info": {
   "codemirror_mode": {
    "name": "ipython",
    "version": 2
   },
   "file_extension": ".py",
   "mimetype": "text/x-python",
   "name": "python",
   "nbconvert_exporter": "python",
   "pygments_lexer": "ipython2",
   "version": "2.7.6"
  }
 },
 "nbformat": 4,
 "nbformat_minor": 0
}