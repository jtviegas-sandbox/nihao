{
 "cells": [
  {
   "cell_type": "markdown",
   "metadata": {},
   "source": [
    "# Store US Stock Prices in HDF5 Format"
   ]
  },
  {
   "cell_type": "markdown",
   "metadata": {},
   "source": [
    "## Imports"
   ]
  },
  {
   "cell_type": "code",
   "execution_count": 12,
   "metadata": {
    "ExecuteTime": {
     "end_time": "2020-07-08T19:20:54.982788Z",
     "start_time": "2020-07-08T19:20:54.975245Z"
    }
   },
   "outputs": [],
   "source": [
    "import pandas as pd\n",
    "import matplotlib.pyplot as plt\n",
    "import seaborn as sns"
   ]
  },
  {
   "cell_type": "code",
   "execution_count": 13,
   "metadata": {
    "ExecuteTime": {
     "end_time": "2020-07-08T19:17:58.764098Z",
     "start_time": "2020-07-08T19:17:58.762244Z"
    }
   },
   "outputs": [],
   "source": [
    "idx = pd.IndexSlice"
   ]
  },
  {
   "cell_type": "markdown",
   "metadata": {},
   "source": [
    "## Load source data"
   ]
  },
  {
   "cell_type": "code",
   "execution_count": 14,
   "metadata": {
    "ExecuteTime": {
     "end_time": "2020-07-08T19:18:12.657773Z",
     "start_time": "2020-07-08T19:17:58.765317Z"
    }
   },
   "outputs": [],
   "source": [
    "df = pd.read_csv('./data/us_stocks.csv',\n",
    "                 parse_dates=['date'], \n",
    "                 index_col=['ticker', 'date'])"
   ]
  },
  {
   "cell_type": "code",
   "execution_count": 19,
   "metadata": {
    "ExecuteTime": {
     "end_time": "2020-07-08T19:18:13.053670Z",
     "start_time": "2020-07-08T19:18:12.658651Z"
    }
   },
   "outputs": [
    {
     "name": "stdout",
     "output_type": "stream",
     "text": [
      "<class 'pandas.core.frame.DataFrame'>\n",
      "MultiIndex: 15389314 entries, ('A', Timestamp('1999-11-18 00:00:00')) to ('ZUMZ', Timestamp('2018-03-27 00:00:00'))\n",
      "Data columns (total 12 columns):\n",
      " #   Column       Non-Null Count     Dtype  \n",
      "---  ------       --------------     -----  \n",
      " 0   open         15388776 non-null  float64\n",
      " 1   high         15389259 non-null  float64\n",
      " 2   low          15389259 non-null  float64\n",
      " 3   close        15389313 non-null  float64\n",
      " 4   volume       15389314 non-null  float64\n",
      " 5   ex-dividend  15389314 non-null  float64\n",
      " 6   split_ratio  15389313 non-null  float64\n",
      " 7   adj_open     15388776 non-null  float64\n",
      " 8   adj_high     15389259 non-null  float64\n",
      " 9   adj_low      15389259 non-null  float64\n",
      " 10  adj_close    15389313 non-null  float64\n",
      " 11  adj_volume   15389314 non-null  float64\n",
      "dtypes: float64(12)\n",
      "memory usage: 1.4+ GB\n"
     ]
    }
   ],
   "source": [
    "df.info(show_counts=True)"
   ]
  },
  {
   "cell_type": "markdown",
   "source": [
    "## select data from 2000 onwards"
   ],
   "metadata": {
    "collapsed": false
   }
  },
  {
   "cell_type": "code",
   "execution_count": 20,
   "metadata": {
    "ExecuteTime": {
     "end_time": "2020-07-08T19:18:14.861119Z",
     "start_time": "2020-07-08T19:18:13.054579Z"
    }
   },
   "outputs": [
    {
     "name": "stdout",
     "output_type": "stream",
     "text": [
      "MultiIndex([(   'A', '2000-01-03'),\n",
      "            (   'A', '2000-01-04'),\n",
      "            (   'A', '2000-01-05'),\n",
      "            (   'A', '2000-01-06'),\n",
      "            (   'A', '2000-01-07'),\n",
      "            (   'A', '2000-01-10'),\n",
      "            (   'A', '2000-01-11'),\n",
      "            (   'A', '2000-01-12'),\n",
      "            (   'A', '2000-01-13'),\n",
      "            (   'A', '2000-01-14'),\n",
      "            ...\n",
      "            ('ZUMZ', '2018-03-14'),\n",
      "            ('ZUMZ', '2018-03-15'),\n",
      "            ('ZUMZ', '2018-03-16'),\n",
      "            ('ZUMZ', '2018-03-19'),\n",
      "            ('ZUMZ', '2018-03-20'),\n",
      "            ('ZUMZ', '2018-03-21'),\n",
      "            ('ZUMZ', '2018-03-22'),\n",
      "            ('ZUMZ', '2018-03-23'),\n",
      "            ('ZUMZ', '2018-03-26'),\n",
      "            ('ZUMZ', '2018-03-27')],\n",
      "           names=['ticker', 'date'], length=11343366)\n"
     ]
    }
   ],
   "source": [
    "df = (df.loc[idx[:, '2000':], :]\n",
    "      .filter(like='adj')\n",
    "      .rename(columns=lambda x: x.replace('adj_', ''))\n",
    "      .dropna())\n",
    "print(df.index)"
   ]
  },
  {
   "cell_type": "code",
   "execution_count": 21,
   "metadata": {
    "ExecuteTime": {
     "end_time": "2020-07-08T19:18:15.056939Z",
     "start_time": "2020-07-08T19:18:14.861997Z"
    }
   },
   "outputs": [
    {
     "name": "stdout",
     "output_type": "stream",
     "text": [
      "<class 'pandas.core.frame.DataFrame'>\n",
      "MultiIndex: 11343366 entries, ('A', Timestamp('2000-01-03 00:00:00')) to ('ZUMZ', Timestamp('2018-03-27 00:00:00'))\n",
      "Data columns (total 5 columns):\n",
      " #   Column  Non-Null Count     Dtype  \n",
      "---  ------  --------------     -----  \n",
      " 0   open    11343366 non-null  float64\n",
      " 1   high    11343366 non-null  float64\n",
      " 2   low     11343366 non-null  float64\n",
      " 3   close   11343366 non-null  float64\n",
      " 4   volume  11343366 non-null  float64\n",
      "dtypes: float64(5)\n",
      "memory usage: 476.7+ MB\n"
     ]
    }
   ],
   "source": [
    "df.info(show_counts=True)"
   ]
  },
  {
   "cell_type": "code",
   "execution_count": 24,
   "metadata": {
    "ExecuteTime": {
     "end_time": "2020-07-08T21:40:08.462309Z",
     "start_time": "2020-07-08T21:40:08.459969Z"
    }
   },
   "outputs": [],
   "source": [
    "symbol = 'AAPL'"
   ]
  },
  {
   "cell_type": "code",
   "execution_count": 28,
   "metadata": {
    "ExecuteTime": {
     "end_time": "2020-07-08T21:40:10.857120Z",
     "start_time": "2020-07-08T21:40:09.907483Z"
    }
   },
   "outputs": [
    {
     "data": {
      "text/plain": "date\n2000-01-03    3.596463\n2000-01-04    3.293170\n2000-01-05    3.341362\n2000-01-06    3.052206\n2000-01-07    3.196784\nName: close, dtype: float64"
     },
     "execution_count": 28,
     "metadata": {},
     "output_type": "execute_result"
    }
   ],
   "source": [
    "s = df.loc[symbol, 'close']\n",
    "s.head()"
   ]
  },
  {
   "cell_type": "code",
   "execution_count": null,
   "outputs": [],
   "source": [
    "fig, axes = plt.subplots(nrows=2, figsize=(14, 6), sharex=True)\n",
    "s = df.loc[symbol, 'close']\n",
    "s.head()\n",
    "s.plot(rot=0, ax=axes[0], title=f'{symbol} Close Price')\n",
    "s.pct_change().plot(rot=0, ax=axes[1], title=f'{symbol} Daily Returns')\n",
    "axes[1].set_xlabel('')\n",
    "sns.despine()\n",
    "fig.tight_layout()"
   ],
   "metadata": {
    "collapsed": false,
    "pycharm": {
     "name": "#%%\n"
    }
   }
  },
  {
   "cell_type": "markdown",
   "metadata": {},
   "source": [
    "## Store in HDF5 format"
   ]
  },
  {
   "cell_type": "code",
   "execution_count": 26,
   "metadata": {},
   "outputs": [],
   "source": [
    "df.to_hdf('./data/stock_prices.h5', 'us_stocks')"
   ]
  },
  {
   "cell_type": "code",
   "execution_count": null,
   "outputs": [],
   "source": [],
   "metadata": {
    "collapsed": false,
    "pycharm": {
     "name": "#%%\n"
    }
   }
  }
 ],
 "metadata": {
  "kernelspec": {
   "name": "pycharm-d539d4ef",
   "language": "python",
   "display_name": "PyCharm (nihao)"
  },
  "language_info": {
   "codemirror_mode": {
    "name": "ipython",
    "version": 3
   },
   "file_extension": ".py",
   "mimetype": "text/x-python",
   "name": "python",
   "nbconvert_exporter": "python",
   "pygments_lexer": "ipython3",
   "version": "3.8.6"
  },
  "toc": {
   "base_numbering": 1,
   "nav_menu": {},
   "number_sections": true,
   "sideBar": true,
   "skip_h1_title": false,
   "title_cell": "Table of Contents",
   "title_sidebar": "Contents",
   "toc_cell": false,
   "toc_position": {},
   "toc_section_display": true,
   "toc_window_display": false
  }
 },
 "nbformat": 4,
 "nbformat_minor": 4
}