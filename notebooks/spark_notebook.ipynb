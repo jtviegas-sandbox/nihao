{
 "cells": [
  {
   "cell_type": "code",
   "execution_count": 6,
   "metadata": {
    "vscode": {
     "languageId": "python"
    }
   },
   "outputs": [
    {
     "name": "stdout",
     "output_type": "stream",
     "text": [
      "Welcome to the Glue Interactive Sessions Kernel\n",
      "For more information on available magic commands, please type %help in any new cell.\n",
      "\n",
      "Please view our Getting Started page to access the most up-to-date information on the Interactive Sessions kernel: https://docs.aws.amazon.com/glue/latest/dg/interactive-sessions.html\n",
      "It looks like there is a newer version of the kernel available. The latest version is 1.0.3 and you have 1.0.2 installed.\n",
      "Please run `pip install --upgrade aws-glue-sessions` to upgrade your kernel\n",
      "Setting Glue version to: 4.0\n",
      "Previous region: None\n",
      "Setting new region to: eu-north-1\n",
      "Region is set to: eu-north-1\n",
      "Current iam_role is None\n",
      "iam_role has been set to arn:aws:iam::041651352119:role/tgedr_it_role_for_glue_service.\n"
     ]
    }
   ],
   "source": [
    "\n",
    "%glue_version 4.0\n",
    "\n",
    "# --- nn\n",
    "# %region eu-central-1\n",
    "# %iam_role arn:aws:iam::988864172292:role/custom_role_for_glue_interactive_sessions\n",
    "# --- tgedr\n",
    "%region eu-north-1\n",
    "%iam_role arn:aws:iam::041651352119:role/tgedr_it_role_for_glue_service\n",
    "\n",
    "\n"
   ]
  },
  {
   "cell_type": "code",
   "execution_count": 9,
   "metadata": {
    "vscode": {
     "languageId": "python"
    }
   },
   "outputs": [
    {
     "name": "stdout",
     "output_type": "stream",
     "text": [
      "The following configurations have been updated: {'enable_spark_ui': 'true', 'python_version': '3.10'}\n"
     ]
    }
   ],
   "source": [
    "%%configure\n",
    "{\n",
    "  \"enable_spark_ui\": \"true\",\n",
    "  \"python_version\": \"3.10\"\n",
    "}"
   ]
  },
  {
   "cell_type": "code",
   "execution_count": 1,
   "metadata": {
    "vscode": {
     "languageId": "python"
    }
   },
   "outputs": [
    {
     "name": "stdout",
     "output_type": "stream",
     "text": [
      "Trying to create a Glue session for the kernel.\n",
      "Session Type: etl\n",
      "Worker Type: G.1X\n",
      "Number of Workers: 5\n",
      "Session ID: 66db3e06-f352-4caf-8171-ee2dc3f7c587\n",
      "Applying the following default arguments:\n",
      "--glue_kernel_version 1.0.2\n",
      "--enable-glue-datacatalog true\n",
      "--enable_spark_ui true\n",
      "--python_version 3.10\n",
      "Waiting for session 66db3e06-f352-4caf-8171-ee2dc3f7c587 to get into ready status...\n",
      "Session 66db3e06-f352-4caf-8171-ee2dc3f7c587 has been created.\n",
      "<pyspark.sql.session.SparkSession object at 0x7ff479e60b80>\n"
     ]
    }
   ],
   "source": [
    "spark"
   ]
  },
  {
   "cell_type": "code",
   "execution_count": 3,
   "metadata": {
    "vscode": {
     "languageId": "python"
    }
   },
   "outputs": [
    {
     "name": "stdout",
     "output_type": "stream",
     "text": [
      "\n"
     ]
    }
   ],
   "source": [
    "from pyspark.sql import functions as F"
   ]
  },
  {
   "cell_type": "code",
   "execution_count": 2,
   "metadata": {
    "vscode": {
     "languageId": "python"
    }
   },
   "outputs": [
    {
     "name": "stdout",
     "output_type": "stream",
     "text": [
      "\n"
     ]
    }
   ],
   "source": [
    "# parquet_file = \"s3://988864172292-gscdm-dev-eu-central-1-landing-zone/dh_cdm/events\"\n",
    "parquet_file = \"s3://de-landing-dev-c44cd1c4-19d5-4b81-af9c-37cb1abac051/dataengineering\""
   ]
  },
  {
   "cell_type": "code",
   "execution_count": 8,
   "metadata": {
    "vscode": {
     "languageId": "python"
    }
   },
   "outputs": [
    {
     "name": "stdout",
     "output_type": "stream",
     "text": [
      "\n"
     ]
    }
   ],
   "source": [
    "df = spark.read.parquet(parquet_file).limit(12)"
   ]
  },
  {
   "cell_type": "code",
   "execution_count": 12,
   "metadata": {
    "vscode": {
     "languageId": "python"
    }
   },
   "outputs": [
    {
     "name": "stdout",
     "output_type": "stream",
     "text": [
      "[Row(symbol='AMD', variable='Adj Close', value=3.1458330154418945, actual_time=322099200.0), Row(symbol='AMD', variable='Close', value=3.1458330154418945, actual_time=322099200.0), Row(symbol='AMD', variable='High', value=3.3020830154418945, actual_time=322099200.0), Row(symbol='AMD', variable='Low', value=3.125, actual_time=322099200.0), Row(symbol='AMD', variable='Open', value=0.0, actual_time=322099200.0), Row(symbol='AMD', variable='Volume', value=219600.0, actual_time=322099200.0), Row(symbol='AMD', variable='Adj Close', value=3.03125, actual_time=322185600.0), Row(symbol='AMD', variable='Close', value=3.03125, actual_time=322185600.0), Row(symbol='AMD', variable='High', value=3.125, actual_time=322185600.0), Row(symbol='AMD', variable='Low', value=2.9375, actual_time=322185600.0), Row(symbol='AMD', variable='Open', value=0.0, actual_time=322185600.0), Row(symbol='AMD', variable='Volume', value=727200.0, actual_time=322185600.0)]\n"
     ]
    }
   ],
   "source": [
    "df.collect()"
   ]
  },
  {
   "cell_type": "code",
   "execution_count": 14,
   "metadata": {
    "vscode": {
     "languageId": "python"
    }
   },
   "outputs": [
    {
     "name": "stdout",
     "output_type": "stream",
     "text": [
      "\n"
     ]
    }
   ],
   "source": [
    "result = df.filter(F.col(\"variable\").isin([\"Adj Close\", \"Volume\"])).groupBy([\"symbol\", \"actual_time\"]\n",
    "       ).pivot(\"variable\").max(\"value\"\n",
    "       ).withColumnRenamed(\"Adj Close\", \"adj_close\"\n",
    "       ).withColumnRenamed(\"Volume\", \"volume\").sort(\"actual_time\", ascending=True)"
   ]
  },
  {
   "cell_type": "code",
   "execution_count": null,
   "metadata": {
    "vscode": {
     "languageId": "python"
    }
   },
   "outputs": [],
   "source": []
  },
  {
   "cell_type": "code",
   "execution_count": 11,
   "metadata": {
    "vscode": {
     "languageId": "python"
    }
   },
   "outputs": [
    {
     "name": "stdout",
     "output_type": "stream",
     "text": [
      "+------+-----------+------------------+--------+\n",
      "|symbol|actual_time|         Adj Close|  Volume|\n",
      "+------+-----------+------------------+--------+\n",
      "|   AMD| 3.220992E8|3.1458330154418945|219600.0|\n",
      "|   AMD| 3.221856E8|           3.03125|727200.0|\n",
      "+------+-----------+------------------+--------+\n"
     ]
    }
   ],
   "source": [
    "result.show()"
   ]
  },
  {
   "cell_type": "code",
   "execution_count": 15,
   "metadata": {
    "vscode": {
     "languageId": "python"
    }
   },
   "outputs": [
    {
     "name": "stdout",
     "output_type": "stream",
     "text": [
      "[Row(symbol='AMD', actual_time=322099200.0, adj_close=3.1458330154418945, volume=219600.0), Row(symbol='AMD', actual_time=322185600.0, adj_close=3.03125, volume=727200.0)]\n"
     ]
    }
   ],
   "source": [
    "result.collect()"
   ]
  },
  {
   "cell_type": "code",
   "execution_count": 18,
   "metadata": {
    "vscode": {
     "languageId": "python"
    }
   },
   "outputs": [
    {
     "name": "stdout",
     "output_type": "stream",
     "text": [
      "+------+-----------+------------------+---------+\n",
      "|symbol|actual_time|         Adj Close|   Volume|\n",
      "+------+-----------+------------------+---------+\n",
      "|   AMD| 3.220992E8|3.1458330154418945| 219600.0|\n",
      "|   AMD| 3.221856E8|           3.03125| 727200.0|\n",
      "|   AMD|  3.22272E8|3.0416669845581055| 295200.0|\n",
      "|   AMD| 3.223584E8|3.0104169845581055| 159600.0|\n",
      "|   AMD| 3.224448E8|2.9166669845581055| 130800.0|\n",
      "|   AMD|  3.22704E8|2.6666669845581055| 436800.0|\n",
      "|   AMD| 3.227904E8|2.6041669845581055| 645600.0|\n",
      "|   AMD| 3.228768E8|2.4479169845581055| 466800.0|\n",
      "|   AMD| 3.229632E8|             2.375|1129200.0|\n",
      "|   AMD| 3.230496E8|2.5416669845581055| 666000.0|\n",
      "|   AMD| 3.233088E8|2.5416669845581055| 430800.0|\n",
      "|   AMD| 3.233952E8|2.7395830154418945| 492000.0|\n",
      "|   AMD| 3.234816E8|             2.625| 283200.0|\n",
      "|   AMD|  3.23568E8|2.6354169845581055| 226800.0|\n",
      "|   AMD| 3.239136E8|2.5416669845581055| 355200.0|\n",
      "|   AMD|     3.24E8|           2.59375| 765600.0|\n",
      "|   AMD| 3.240864E8|2.6666669845581055| 134400.0|\n",
      "|   AMD| 3.241728E8|2.7395830154418945| 174000.0|\n",
      "|   AMD| 3.242592E8|2.6354169845581055| 109200.0|\n",
      "|   AMD| 3.245184E8|            2.5625| 267600.0|\n",
      "+------+-----------+------------------+---------+\n",
      "only showing top 20 rows\n"
     ]
    }
   ],
   "source": [
    "df1 = (\n",
    "       df[df[\"variable\"].isin([\"Adj Close\", \"Volume\"])]\n",
    "       ).groupBy([\"symbol\", \"actual_time\"]\n",
    "       ).pivot(\"variable\").max(\"value\"\n",
    "       ).sort(\"actual_time\", ascending=True)\n",
    "\n",
    "df1.show()"
   ]
  },
  {
   "cell_type": "code",
   "execution_count": 15,
   "metadata": {
    "vscode": {
     "languageId": "python"
    }
   },
   "outputs": [
    {
     "name": "stdout",
     "output_type": "stream",
     "text": [
      "+------+-----------+-------------------+----------+\n",
      "|symbol|actual_time|          Adj Close|    Volume|\n",
      "+------+-----------+-------------------+----------+\n",
      "|   AMD| 3.547584E8| 4.2291669845581055|  413400.0|\n",
      "|   AMD| 3.754944E8| 2.8958330154418945|  113400.0|\n",
      "|   AMD| 3.929472E8| 3.7916669845581055|  178200.0|\n",
      "|   AMD| 3.941568E8| 4.0416669845581055|  240600.0|\n",
      "|   AMD| 4.342464E8|            16.0625|  620400.0|\n",
      "|   AMD| 4.379616E8|              16.75|  512000.0|\n",
      "|   AMD| 4.491936E8|             14.125|  469400.0|\n",
      "|   AMD| 4.533408E8|             16.625|  441400.0|\n",
      "|   AMD| 4.603392E8|            17.5625| 4924000.0|\n",
      "|   AMD| 4.612896E8|            18.4375|  859000.0|\n",
      "|   AMD| 4.796928E8|              15.25|  734200.0|\n",
      "|   AMD| 5.152032E8|            14.1875|  701200.0|\n",
      "|   AMD| 5.323104E8|             7.8125|  393400.0|\n",
      "|  MSFT| 5.331744E8|0.10870875418186188|1.738368E8|\n",
      "|   AMD| 5.332608E8|              7.875|  285400.0|\n",
      "|  MSFT|  5.35248E8|0.10198217630386353|  1.2672E7|\n",
      "|  MSFT| 5.380128E8|0.13776959478855133| 8.82432E7|\n",
      "|   AMD| 5.381856E8|               8.75| 1528600.0|\n",
      "|  MSFT| 5.448384E8|0.20826943218708038|1.062144E8|\n",
      "|  MSFT| 5.455296E8|0.21203631162643433|1.880928E8|\n",
      "+------+-----------+-------------------+----------+\n",
      "only showing top 20 rows\n"
     ]
    }
   ],
   "source": [
    "from pyspark.sql import functions as F\n",
    "df1.groupBy([\"symbol\", \"actual_time\"]).pivot(\"variable\").max(\"value\").show()"
   ]
  },
  {
   "cell_type": "code",
   "execution_count": null,
   "metadata": {
    "vscode": {
     "languageId": "python"
    }
   },
   "outputs": [],
   "source": []
  }
 ],
 "metadata": {
  "kernelspec": {
   "display_name": "Glue PySpark",
   "language": "python",
   "name": "glue_pyspark"
  },
  "language_info": {
   "codemirror_mode": {
    "name": "python",
    "version": 3
   },
   "file_extension": ".py",
   "mimetype": "text/x-python",
   "name": "Python_Glue_Session",
   "pygments_lexer": "python3"
  }
 },
 "nbformat": 4,
 "nbformat_minor": 4
}
